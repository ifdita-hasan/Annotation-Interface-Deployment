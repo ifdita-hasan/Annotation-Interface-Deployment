{
 "cells": [
  {
   "cell_type": "code",
   "execution_count": 2,
   "id": "8e2a8721",
   "metadata": {},
   "outputs": [],
   "source": [
    "import json\n",
    "import openai\n",
    "from pprint import pprint\n",
    "from dotenv import load_dotenv\n",
    "import os\n",
    "import pandas as pd\n",
    "import random\n",
    "import requests\n",
    "import ast\n",
    "from collections import defaultdict\n",
    "\n",
    "TRAIN_DATA_FILE = \"train.json\"\n",
    "PROMPT_FILE = \"prompt.txt\""
   ]
  },
  {
   "cell_type": "code",
   "execution_count": 3,
   "id": "3b18b835",
   "metadata": {},
   "outputs": [],
   "source": [
    "load_dotenv()\n",
    "API_KEY = os.getenv(\"API_KEY\")"
   ]
  },
  {
   "cell_type": "code",
   "execution_count": 4,
   "id": "b592f59b",
   "metadata": {},
   "outputs": [],
   "source": [
    "def read_data(data_file): \n",
    "    with open(data_file, \"r\") as f: \n",
    "        return json.load(f)\n",
    "\n",
    "def process_data_to_row(data_point): \n",
    "    return {\n",
    "        \"Conversation Context\": '\\n'.join(data_point[0].split('\\n')[:-1]),\n",
    "        \"Helper Response\": data_point[0].split('\\n')[-1], \n",
    "        \"Better Response\": data_point[1]['alternative'],\n",
    "        \"Feedback\": data_point[1]['feedback'], \n",
    "        \"Good Areas\": data_point[1]['goodareas'],\n",
    "        \"Bad Areas\": data_point[1]['badareas']\n",
    "    }"
   ]
  },
  {
   "cell_type": "code",
   "execution_count": 5,
   "id": "49477d00",
   "metadata": {},
   "outputs": [],
   "source": [
    "def parse_data_point(data_point):\n",
    "    data_text = data_point['text']\n",
    "    keys = data_text.split('###')\n",
    "\n",
    "    # Extract the instruction, input, and response\n",
    "    instruction = keys[1].strip()\n",
    "    input_text = keys[2].strip()\n",
    "    response_text = keys[3].strip()\n",
    "\n",
    "    # Extract the conversation and helper indices\n",
    "    conv_index = data_point['conv_index']\n",
    "    helper_index = data_point['helper_index']\n",
    "\n",
    "    # Format the input to remove the first line\n",
    "    input_lines = input_text.split('\\n')\n",
    "    input_lines = input_lines[1:]\n",
    "    input_formatted = [line.strip() for line in input_lines if line.strip()]  # Remove empty lines and extra spaces\n",
    "    \n",
    "\n",
    "    # Parse the response text\n",
    "    response_data = json.loads(response_text[response_text.index(\":\") + 1:].strip())\n",
    "\n",
    "    return {\n",
    "        'conv_index': conv_index,\n",
    "        'helper_index': helper_index,\n",
    "        'instruction': instruction,\n",
    "        'input': input_formatted,\n",
    "        'response': response_data\n",
    "    }"
   ]
  },
  {
   "cell_type": "code",
   "execution_count": 8,
   "id": "78ab24a7",
   "metadata": {
    "scrolled": false
   },
   "outputs": [
    {
     "name": "stdout",
     "output_type": "stream",
     "text": [
      "[{'conv_index': 1, 'helper_index': 2, 'instruction': \"Instruction:\\nGive feedback to the Helper's last response.\", 'input': ['Seeker: Hey', 'Helper: HI, can I help today?', 'Seeker: I have been married for 5 years but i am very unhappy and anxious. I want to break up with my partner but not sure how, this is increasing my anxiety', 'Helper: I am sorry to hear that. I know it can be really stressful when you are considering a break up. How long have you thought about doing this?', \"Seeker: i've thought about this for the last year, things have been going downhill since. I think its starting to become noticible\", 'Helper: That is a long time to think about something, so you have given it a lot of time and thought. Have you mentioned it to your partner?'], 'response': {'perfect': False, 'goodareas': ['Empathy'], 'feedback': \"The goal is to empathize and validate the seeker's feelings and provide a supportive, judgment-free environment. It might be better to first validate the seeker's feelings and empathize with their situation before asking further questions. Also, the question might feel a bit challenging or invasive.\", 'badareas': ['Questions', 'Validation'], 'alternative': \"It sounds like you've been carrying this for a long time and it's a substantial burden. It could be hard to keep it all inside. I'm here to listen and support you through this.\"}}, {'conv_index': 1, 'helper_index': 5, 'instruction': \"Instruction:\\nGive feedback to the Helper's last response.\", 'input': ['Seeker: I have been married for 5 years but i am very unhappy and anxious. I want to break up with my partner but not sure how, this is increasing my anxiety', 'Helper: I am sorry to hear that. I know it can be really stressful when you are considering a break up. How long have you thought about doing this?', \"Seeker: i've thought about this for the last year, things have been going downhill since. I think its starting to become noticible\", 'Helper: That is a long time to think about something, so you have given it a lot of time and thought. Have you mentioned it to your partner?', \"Seeker: i tried to do it around 8 months ago but my partner convinced herself that it was because i was cheating on her. Her own insecurities put me under a lot of pressure to stay in the relationship to prove i wasn't having an affair\", 'Helper: Sharing your feelings is important so thank you for making the effort today. It is not fair to prove a negative and that can be taxing. It sounds like you are a very patient person.', 'Seeker: I try to be patient, but i feel like i am wasting my life when i could be happy on my own or potentially with someone else in the future. Im anxious about my daughter and my relationship with her if we split up', 'Helper: You have spent a great deal of time trying to make things right with your partner and you have used a great deal of effort to make it work. You are also a very loving parent who cares greatly.', \"Seeker: I know i need to be true to myself but its extremely difficult, i'm not sure how to start the process\", \"Helper: Yes, you are right. My parents split up later in life and I was happy to see my dad happy. I understand that isn't everyone story though. Do you have any close family members you can talk to about this? Or close friends?\"], 'response': {'perfect': False, 'goodareas': [], 'feedback': \"The goal is to provide support and explore the seeker's support system, but the response includes an unnecessary self-disclosure which may shift the focus from the seeker. It would be better to ask about the seeker's support network without sharing personal experiences.\", 'badareas': ['Self-disclosure', 'Questions'], 'alternative': 'I can see why this is a tough decision for you, especially when your daughter is involved. Do you have any close family members or friends you can talk to about this?'}}, {'conv_index': 1, 'helper_index': 6, 'instruction': \"Instruction:\\nGive feedback to the Helper's last response.\", 'input': ['Helper: Sharing your feelings is important so thank you for making the effort today. It is not fair to prove a negative and that can be taxing. It sounds like you are a very patient person.', 'Seeker: I try to be patient, but i feel like i am wasting my life when i could be happy on my own or potentially with someone else in the future. Im anxious about my daughter and my relationship with her if we split up', 'Helper: You have spent a great deal of time trying to make things right with your partner and you have used a great deal of effort to make it work. You are also a very loving parent who cares greatly.', \"Seeker: I know i need to be true to myself but its extremely difficult, i'm not sure how to start the process\", \"Helper: Yes, you are right. My parents split up later in life and I was happy to see my dad happy. I understand that isn't everyone story though. Do you have any close family members you can talk to about this? Or close friends?\", \"Seeker: unfortunately i pushed all my friends away for the sake of the relationship, again the insecurities meant i couldn't have my own time and space. I know my family would be supportive, but there are a lot of financial issues with divorce which worries me\", 'Helper: Often times people turn to church or religion and support groups in order to connect with people from the same faith. Have you considered this avenue?'], 'response': {'perfect': False, 'goodareas': [], 'feedback': 'The goal is to provide support and suggest resources which can help them. However, it would be better to suggest resources that are more directly aligned with their expressed needs or concerns.', 'badareas': ['Suggestions', 'Empathy'], 'alternative': 'I hear you, it sounds like a lot to handle on your own. Sometimes, talking to a counselor or joining a support group can help. Have you considered something like that?'}}, {'conv_index': 1, 'helper_index': 8, 'instruction': \"Instruction:\\nGive feedback to the Helper's last response.\", 'input': ['Helper: Sharing your feelings is important so thank you for making the effort today. It is not fair to prove a negative and that can be taxing. It sounds like you are a very patient person.', 'Seeker: I try to be patient, but i feel like i am wasting my life when i could be happy on my own or potentially with someone else in the future. Im anxious about my daughter and my relationship with her if we split up', 'Helper: You have spent a great deal of time trying to make things right with your partner and you have used a great deal of effort to make it work. You are also a very loving parent who cares greatly.', \"Seeker: I know i need to be true to myself but its extremely difficult, i'm not sure how to start the process\", \"Helper: Yes, you are right. My parents split up later in life and I was happy to see my dad happy. I understand that isn't everyone story though. Do you have any close family members you can talk to about this? Or close friends?\", \"Seeker: unfortunately i pushed all my friends away for the sake of the relationship, again the insecurities meant i couldn't have my own time and space. I know my family would be supportive, but there are a lot of financial issues with divorce which worries me\", 'Helper: Often times people turn to church or religion and support groups in order to connect with people from the same faith. Have you considered this avenue?', \"Seeker: Ive considered support groups, im a little embarrassed tho. I don't think religion would be much help to me\", 'Helper: I understand that you feel nervous about reaching out and thank you again for doing that here today. Sometimes close friends can be a good source of support. It can be hard repairing friendships though.', 'Seeker: Maybe i should reach out again?', 'Helper: Yes, I would reach out to old friends who may be willing to give you insight into how they viewed things. Support groups can feel intimidating but are usually very welcoming and truly there to help people.'], 'response': {'perfect': False, 'goodareas': ['Suggestions'], 'feedback': 'The goal is to provide support and encourage the seeker to connect with their network. It would be better to ask the seeker how they feel about reaching out to old friends, rather than directly suggesting it.', 'badareas': ['Questions'], 'alternative': 'It sounds like reaching out to old friends might be an option. How do you feel about that? And how do you feel about exploring support groups?'}}, {'conv_index': 2, 'helper_index': 0, 'instruction': \"Instruction:\\nGive feedback to the Helper's last response.\", 'input': ['Seeker: I believe that I can get over this time in my life but I need support.', 'Helper: What are you having a problem with?'], 'response': {'perfect': False, 'goodareas': [], 'feedback': 'The goal is to start the conversation by friendliness and building rapport.', 'badareas': ['Questions'], 'alternative': 'Hi there, thank you so much for reaching out. What are you having a problem with today?'}}, {'conv_index': 1, 'helper_index': 2, 'instruction': \"Instruction:\\nGive feedback to the Helper's last response.\", 'input': ['Seeker: Hey', 'Helper: HI, can I help today?', 'Seeker: I have been married for 5 years but i am very unhappy and anxious. I want to break up with my partner but not sure how, this is increasing my anxiety', 'Helper: I am sorry to hear that. I know it can be really stressful when you are considering a break up. How long have you thought about doing this?', \"Seeker: i've thought about this for the last year, things have been going downhill since. I think its starting to become noticible\", 'Helper: That is a long time to think about something, so you have given it a lot of time and thought. Have you mentioned it to your partner?'], 'response': {'perfect': False, 'goodareas': ['Empathy'], 'feedback': \"The goal is to empathize and validate the seeker's feelings and provide a supportive, judgment-free environment. It might be better to first validate the seeker's feelings and empathize with their situation before asking further questions. Also, the question might feel a bit challenging or invasive.\", 'badareas': ['Questions', 'Validation'], 'alternative': \"It sounds like you've been carrying this for a long time and it's a substantial burden. It could be hard to keep it all inside. I'm here to listen and support you through this.\"}}, {'conv_index': 2, 'helper_index': 2, 'instruction': \"Instruction:\\nGive feedback to the Helper's last response.\", 'input': ['Seeker: I believe that I can get over this time in my life but I need support.', 'Helper: What are you having a problem with?', 'Seeker: My husband has cancer. I have been really depressed.', 'Helper: I understand how you are feeling. My mom had cancer. It really helped me to join a support group.', 'Seeker: So how do you keep going without crying? How do I find a support group? I live in a rural place.', \"Helper: Crying is natural. You have every right to have those feelings. Don't try and stop yourself from crying.\"], 'response': {'perfect': False, 'goodareas': [], 'feedback': 'The goal is to provide emotional reassurance and practical advice. It would be more beneficial to address these questions individually rather than asking them all at once.', 'badareas': ['Structure', 'Questions'], 'alternative': \"It's okay to cry, it's a natural response to what you're going through. Regarding finding a support group, it's a good idea. Even in a rural area, there might be some options available. Would you like some help in exploring these options?\"}}, {'conv_index': 2, 'helper_index': 3, 'instruction': \"Instruction:\\nGive feedback to the Helper's last response.\", 'input': ['Seeker: I believe that I can get over this time in my life but I need support.', 'Helper: What are you having a problem with?', 'Seeker: My husband has cancer. I have been really depressed.', 'Helper: I understand how you are feeling. My mom had cancer. It really helped me to join a support group.', 'Seeker: So how do you keep going without crying? How do I find a support group? I live in a rural place.', \"Helper: Crying is natural. You have every right to have those feelings. Don't try and stop yourself from crying.\", 'Seeker: Ok. How do I not cry in front of him?', 'Helper: There are online support groups you could get involved with.'], 'response': {'perfect': False, 'goodareas': [], 'feedback': \"The goal is to acknowledge the seeker's concern about crying in front of her husband. It might be better to show more empathy and understanding before offering a suggestion.\", 'badareas': ['Empathy', 'Suggestions'], 'alternative': \"It sounds like you're trying to be strong for him and that's really tough. It's perfectly okay to have your own feelings. If you're uncomfortable crying in front of him, you might find a private space to let your feelings out. How does that sound?\"}}, {'conv_index': 2, 'helper_index': 4, 'instruction': \"Instruction:\\nGive feedback to the Helper's last response.\", 'input': ['Seeker: My husband has cancer. I have been really depressed.', 'Helper: I understand how you are feeling. My mom had cancer. It really helped me to join a support group.', 'Seeker: So how do you keep going without crying? How do I find a support group? I live in a rural place.', \"Helper: Crying is natural. You have every right to have those feelings. Don't try and stop yourself from crying.\", 'Seeker: Ok. How do I not cry in front of him?', 'Helper: There are online support groups you could get involved with.', 'Seeker: Yeah but where do I find them?', 'Helper: You can google - online cancer support groups.'], 'response': {'perfect': False, 'goodareas': [], 'feedback': 'The goal is to provide more detailed and supportive guidance for the seeker. It would be better to offer more specific suggestions or resources for online support groups.', 'badareas': ['Suggestions'], 'alternative': \"There are several resources for online support groups. For example, the American Cancer Society has an online community called Cancer Survivors Network where you can connect with other people who are going through similar experiences. You can find it by searching 'Cancer Survivors Network' in Google.\"}}, {'conv_index': 1, 'helper_index': 5, 'instruction': \"Instruction:\\nGive feedback to the Helper's last response.\", 'input': ['Seeker: I have been married for 5 years but i am very unhappy and anxious. I want to break up with my partner but not sure how, this is increasing my anxiety', 'Helper: I am sorry to hear that. I know it can be really stressful when you are considering a break up. How long have you thought about doing this?', \"Seeker: i've thought about this for the last year, things have been going downhill since. I think its starting to become noticible\", 'Helper: That is a long time to think about something, so you have given it a lot of time and thought. Have you mentioned it to your partner?', \"Seeker: i tried to do it around 8 months ago but my partner convinced herself that it was because i was cheating on her. Her own insecurities put me under a lot of pressure to stay in the relationship to prove i wasn't having an affair\", 'Helper: Sharing your feelings is important so thank you for making the effort today. It is not fair to prove a negative and that can be taxing. It sounds like you are a very patient person.', 'Seeker: I try to be patient, but i feel like i am wasting my life when i could be happy on my own or potentially with someone else in the future. Im anxious about my daughter and my relationship with her if we split up', 'Helper: You have spent a great deal of time trying to make things right with your partner and you have used a great deal of effort to make it work. You are also a very loving parent who cares greatly.', \"Seeker: I know i need to be true to myself but its extremely difficult, i'm not sure how to start the process\", \"Helper: Yes, you are right. My parents split up later in life and I was happy to see my dad happy. I understand that isn't everyone story though. Do you have any close family members you can talk to about this? Or close friends?\"], 'response': {'perfect': False, 'goodareas': [], 'feedback': \"The goal is to provide support and explore the seeker's support system, but the response includes an unnecessary self-disclosure which may shift the focus from the seeker. It would be better to ask about the seeker's support network without sharing personal experiences.\", 'badareas': ['Self-disclosure', 'Questions'], 'alternative': 'I can see why this is a tough decision for you, especially when your daughter is involved. Do you have any close family members or friends you can talk to about this?'}}, {'conv_index': 1, 'helper_index': 6, 'instruction': \"Instruction:\\nGive feedback to the Helper's last response.\", 'input': ['Helper: Sharing your feelings is important so thank you for making the effort today. It is not fair to prove a negative and that can be taxing. It sounds like you are a very patient person.', 'Seeker: I try to be patient, but i feel like i am wasting my life when i could be happy on my own or potentially with someone else in the future. Im anxious about my daughter and my relationship with her if we split up', 'Helper: You have spent a great deal of time trying to make things right with your partner and you have used a great deal of effort to make it work. You are also a very loving parent who cares greatly.', \"Seeker: I know i need to be true to myself but its extremely difficult, i'm not sure how to start the process\", \"Helper: Yes, you are right. My parents split up later in life and I was happy to see my dad happy. I understand that isn't everyone story though. Do you have any close family members you can talk to about this? Or close friends?\", \"Seeker: unfortunately i pushed all my friends away for the sake of the relationship, again the insecurities meant i couldn't have my own time and space. I know my family would be supportive, but there are a lot of financial issues with divorce which worries me\", 'Helper: Often times people turn to church or religion and support groups in order to connect with people from the same faith. Have you considered this avenue?'], 'response': {'perfect': False, 'goodareas': [], 'feedback': 'The goal is to provide support and suggest resources which can help them. However, it would be better to suggest resources that are more directly aligned with their expressed needs or concerns.', 'badareas': ['Suggestions', 'Empathy'], 'alternative': 'I hear you, it sounds like a lot to handle on your own. Sometimes, talking to a counselor or joining a support group can help. Have you considered something like that?'}}, {'conv_index': 2, 'helper_index': 6, 'instruction': \"Instruction:\\nGive feedback to the Helper's last response.\", 'input': ['Seeker: Yeah but where do I find them?', 'Helper: You can google - online cancer support groups.', \"Seeker: It makes it tough because I don't make as much money as he does/. What kind of cancer di your mother have?\", 'Helper: My mother had rectal cancer. She went through a surgery and chemo and radiation and then she went into remission.', 'Seeker: Oh he has a 25 percent of remission', 'Helper: If you are having problems with money you might be able to qualify for food assistance through the SNAP program. Hang in there, I know it is rough but there is hope.'], 'response': {'perfect': False, 'goodareas': [], 'feedback': \"The goal is to empathize with the seeker's struggles. Rather than providing advice immediately, it would be better to validate the seeker's feelings and explore their concerns more. Do your best to respond specifically to the most recent sentence to avoid bouncing around different topics for continuity and clarity.\", 'badareas': ['Empathy', 'Suggestions'], 'alternative': \"It sounds like you're dealing with a lot right now, between financial stress and your partner's health. How are you managing all this?\"}}, {'conv_index': 1, 'helper_index': 8, 'instruction': \"Instruction:\\nGive feedback to the Helper's last response.\", 'input': ['Helper: Sharing your feelings is important so thank you for making the effort today. It is not fair to prove a negative and that can be taxing. It sounds like you are a very patient person.', 'Seeker: I try to be patient, but i feel like i am wasting my life when i could be happy on my own or potentially with someone else in the future. Im anxious about my daughter and my relationship with her if we split up', 'Helper: You have spent a great deal of time trying to make things right with your partner and you have used a great deal of effort to make it work. You are also a very loving parent who cares greatly.', \"Seeker: I know i need to be true to myself but its extremely difficult, i'm not sure how to start the process\", \"Helper: Yes, you are right. My parents split up later in life and I was happy to see my dad happy. I understand that isn't everyone story though. Do you have any close family members you can talk to about this? Or close friends?\", \"Seeker: unfortunately i pushed all my friends away for the sake of the relationship, again the insecurities meant i couldn't have my own time and space. I know my family would be supportive, but there are a lot of financial issues with divorce which worries me\", 'Helper: Often times people turn to church or religion and support groups in order to connect with people from the same faith. Have you considered this avenue?', \"Seeker: Ive considered support groups, im a little embarrassed tho. I don't think religion would be much help to me\", 'Helper: I understand that you feel nervous about reaching out and thank you again for doing that here today. Sometimes close friends can be a good source of support. It can be hard repairing friendships though.', 'Seeker: Maybe i should reach out again?', 'Helper: Yes, I would reach out to old friends who may be willing to give you insight into how they viewed things. Support groups can feel intimidating but are usually very welcoming and truly there to help people.'], 'response': {'perfect': False, 'goodareas': ['Suggestions'], 'feedback': 'The goal is to provide support and encourage the seeker to connect with their network. It would be better to ask the seeker how they feel about reaching out to old friends, rather than directly suggesting it.', 'badareas': ['Questions'], 'alternative': 'It sounds like reaching out to old friends might be an option. How do you feel about that? And how do you feel about exploring support groups?'}}, {'conv_index': 2, 'helper_index': 8, 'instruction': \"Instruction:\\nGive feedback to the Helper's last response.\", 'input': ['Helper: If you are having problems with money you might be able to qualify for food assistance through the SNAP program. Hang in there, I know it is rough but there is hope.', 'Seeker: Yeah but food I can always get. Its paying the bills.', 'Helper: Hang in there, I know it is rough but there is hope.', 'Seeker: I know I will snap out of it and get my strength back. I always bounce back.', 'Helper: Remember, as much as you need to be strong for him - you need to take care of yourself extra special during this time. Remember, as much as you need to be strong for him - you need to take care of yourself extra special during this time.'], 'response': {'perfect': False, 'goodareas': [], 'feedback': \"The goal is to provide supportive advice that is appropriate to the seeker's situation. It would be better to avoid repetition and instead provide more specific, actionable advice.\", 'badareas': ['Structure', 'Suggestions'], 'alternative': \"It's really important that you also take care of yourself during this time. That might mean taking some time for self-care, or reaching out to support groups or trusted friends.\"}}]\n"
     ]
    }
   ],
   "source": [
    "data = read_data(TRAIN_DATA_FILE)\n",
    "c_result = []\n",
    "sorted_result = []\n",
    "for c_index in range(1, 3):\n",
    "    for data_point in data:\n",
    "        data_text = data_point['text']\n",
    "        keys = data_text.split('###')\n",
    "        if data_point['conv_index'] == c_index:\n",
    "            c_result.append(parse_data_point(data_point))\n",
    "    c_result = sorted(c_result, key = lambda x: x['helper_index'])\n",
    "    sorted_result += c_result\n",
    "processed_dict = [result for result in sorted_result if not result['response']['perfect'] and ('Questions' in result['response']['badareas'] or 'Suggestions' in result['response']['badareas'])]\n",
    "print(processed_dict)"
   ]
  },
  {
   "cell_type": "code",
   "execution_count": 9,
   "id": "9abb6be9",
   "metadata": {},
   "outputs": [
    {
     "name": "stdout",
     "output_type": "stream",
     "text": [
      "Data has been saved to processed_dict.json\n"
     ]
    }
   ],
   "source": [
    "# with open(f'{c_index}_processed_data.json', 'w') as json_file:\n",
    "#     json.dump(sorted_result, json_file, indent=4)\n",
    "# print(f\"Data has been saved to {c_index}_processed_data.json\")\n",
    "\n",
    "# with open(f'{c_index}_flawed_response.json', 'w') as json_file:\n",
    "#     json.dump(flawed_response, json_file, indent=4)\n",
    "# print(f\"Data has been saved to {c_index}_flawed_response.json\")\n",
    "\n",
    "with open('processed_dict.json', 'w') as json_file:\n",
    "    json.dump(processed_dict, json_file, indent=4)\n",
    "print(f\"Data has been saved to processed_dict.json\")"
   ]
  },
  {
   "cell_type": "code",
   "execution_count": 15,
   "id": "448e67b1",
   "metadata": {},
   "outputs": [],
   "source": [
    "def find_perf_data_points(data, imperfect, c_index): \n",
    "    for points in imperfect:\n",
    "        if points[0]['conv_index'] == c_index:\n",
    "            return process_data_to_row(points[0])\n",
    "        "
   ]
  },
  {
   "cell_type": "code",
   "execution_count": 16,
   "id": "7cbb93d5",
   "metadata": {},
   "outputs": [
    {
     "ename": "NameError",
     "evalue": "name 'imperfect' is not defined",
     "output_type": "error",
     "traceback": [
      "\u001b[0;31m---------------------------------------------------------------------------\u001b[0m",
      "\u001b[0;31mNameError\u001b[0m                                 Traceback (most recent call last)",
      "Cell \u001b[0;32mIn[16], line 1\u001b[0m\n\u001b[0;32m----> 1\u001b[0m find_perf_data_points(data, \u001b[43mimperfect\u001b[49m, \u001b[38;5;241m127\u001b[39m)\n",
      "\u001b[0;31mNameError\u001b[0m: name 'imperfect' is not defined"
     ]
    }
   ],
   "source": [
    "find_perf_data_points(data, imperfect, 127)"
   ]
  },
  {
   "cell_type": "code",
   "execution_count": null,
   "id": "e597257f",
   "metadata": {},
   "outputs": [],
   "source": [
    "# def group_and_sort_data_points(data, c_index=None):\n",
    "#     grouped_data = defaultdict(list)\n",
    "    \n",
    "#     # Parse each data point and group by conv_index\n",
    "#     for data_point in data:\n",
    "#         parsed_data = parse_data_point(data_point, c_index)\n",
    "#         if parsed_data:\n",
    "            \n",
    "            \n",
    "    \n",
    "#     # Sort each group by helper_index\n",
    "#     for conv_index in grouped_data:\n",
    "#         grouped_data[conv_index].sort(key=lambda x: x['helper_index'])\n",
    "    \n",
    "#     return grouped_data"
   ]
  }
 ],
 "metadata": {
  "kernelspec": {
   "display_name": "Python 3 (ipykernel)",
   "language": "python",
   "name": "python3"
  },
  "language_info": {
   "codemirror_mode": {
    "name": "ipython",
    "version": 3
   },
   "file_extension": ".py",
   "mimetype": "text/x-python",
   "name": "python",
   "nbconvert_exporter": "python",
   "pygments_lexer": "ipython3",
   "version": "3.10.9"
  }
 },
 "nbformat": 4,
 "nbformat_minor": 5
}
